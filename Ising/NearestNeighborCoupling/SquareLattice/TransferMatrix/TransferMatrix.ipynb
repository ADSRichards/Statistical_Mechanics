{
  "nbformat": 4,
  "nbformat_minor": 0,
  "metadata": {
    "colab": {
      "name": "2DIsingSquareNN.ipynb",
      "version": "0.3.2",
      "provenance": [],
      "collapsed_sections": [],
      "include_colab_link": true
    },
    "kernelspec": {
      "name": "python3",
      "display_name": "Python 3"
    }
  },
  "cells": [
    {
      "cell_type": "markdown",
      "metadata": {
        "id": "view-in-github",
        "colab_type": "text"
      },
      "source": [
        "<a href=\"https://colab.research.google.com/github/ADSRichards/Statistical_Mechanics/blob/master/Ising/NearestNeighborCoupling/SquareLattice/TransferMatrix/TransferMatrix.ipynb\" target=\"_parent\"><img src=\"https://colab.research.google.com/assets/colab-badge.svg\" alt=\"Open In Colab\"/></a>"
      ]
    },
    {
      "cell_type": "code",
      "metadata": {
        "id": "tdHnq8EgyEwy",
        "colab_type": "code",
        "colab": {}
      },
      "source": [
        "import numpy as np\n",
        "import matplotlib as plt"
      ],
      "execution_count": 0,
      "outputs": []
    },
    {
      "cell_type": "markdown",
      "metadata": {
        "id": "DEtV7VO8yJhZ",
        "colab_type": "text"
      },
      "source": [
        "Constructing all of the configurations of an Ising chain"
      ]
    },
    {
      "cell_type": "code",
      "metadata": {
        "id": "M5TXl_D0yaJ0",
        "colab_type": "code",
        "colab": {
          "base_uri": "https://localhost:8080/",
          "height": 54
        },
        "outputId": "1dd441c8-68c2-4c80-9f51-7a3920814bac"
      },
      "source": [
        "L = 6 # Length of the lattice\n",
        "\n",
        "def dec2bin(x_dec):\n",
        "    x_bin = [int(d) for d in bin(int(pow(2,L)) + x_dec)[2:(2+L+1)]]\n",
        "    x_bin = x_bin[1:(L+1)]\n",
        "    return x_bin\n",
        "\n",
        "phi = []\n",
        "for i in range(0,pow(2,L)):\n",
        "    phi.append([2*x-1 for x in dec2bin(i)])\n",
        "  \n",
        "print(phi)"
      ],
      "execution_count": 255,
      "outputs": [
        {
          "output_type": "stream",
          "text": [
            "[[-1, -1, -1, -1, -1, -1], [-1, -1, -1, -1, -1, 1], [-1, -1, -1, -1, 1, -1], [-1, -1, -1, -1, 1, 1], [-1, -1, -1, 1, -1, -1], [-1, -1, -1, 1, -1, 1], [-1, -1, -1, 1, 1, -1], [-1, -1, -1, 1, 1, 1], [-1, -1, 1, -1, -1, -1], [-1, -1, 1, -1, -1, 1], [-1, -1, 1, -1, 1, -1], [-1, -1, 1, -1, 1, 1], [-1, -1, 1, 1, -1, -1], [-1, -1, 1, 1, -1, 1], [-1, -1, 1, 1, 1, -1], [-1, -1, 1, 1, 1, 1], [-1, 1, -1, -1, -1, -1], [-1, 1, -1, -1, -1, 1], [-1, 1, -1, -1, 1, -1], [-1, 1, -1, -1, 1, 1], [-1, 1, -1, 1, -1, -1], [-1, 1, -1, 1, -1, 1], [-1, 1, -1, 1, 1, -1], [-1, 1, -1, 1, 1, 1], [-1, 1, 1, -1, -1, -1], [-1, 1, 1, -1, -1, 1], [-1, 1, 1, -1, 1, -1], [-1, 1, 1, -1, 1, 1], [-1, 1, 1, 1, -1, -1], [-1, 1, 1, 1, -1, 1], [-1, 1, 1, 1, 1, -1], [-1, 1, 1, 1, 1, 1], [1, -1, -1, -1, -1, -1], [1, -1, -1, -1, -1, 1], [1, -1, -1, -1, 1, -1], [1, -1, -1, -1, 1, 1], [1, -1, -1, 1, -1, -1], [1, -1, -1, 1, -1, 1], [1, -1, -1, 1, 1, -1], [1, -1, -1, 1, 1, 1], [1, -1, 1, -1, -1, -1], [1, -1, 1, -1, -1, 1], [1, -1, 1, -1, 1, -1], [1, -1, 1, -1, 1, 1], [1, -1, 1, 1, -1, -1], [1, -1, 1, 1, -1, 1], [1, -1, 1, 1, 1, -1], [1, -1, 1, 1, 1, 1], [1, 1, -1, -1, -1, -1], [1, 1, -1, -1, -1, 1], [1, 1, -1, -1, 1, -1], [1, 1, -1, -1, 1, 1], [1, 1, -1, 1, -1, -1], [1, 1, -1, 1, -1, 1], [1, 1, -1, 1, 1, -1], [1, 1, -1, 1, 1, 1], [1, 1, 1, -1, -1, -1], [1, 1, 1, -1, -1, 1], [1, 1, 1, -1, 1, -1], [1, 1, 1, -1, 1, 1], [1, 1, 1, 1, -1, -1], [1, 1, 1, 1, -1, 1], [1, 1, 1, 1, 1, -1], [1, 1, 1, 1, 1, 1]]\n"
          ],
          "name": "stdout"
        }
      ]
    },
    {
      "cell_type": "markdown",
      "metadata": {
        "id": "WePNGjHJCXXu",
        "colab_type": "text"
      },
      "source": [
        "Now we may construct the matrix elements of the transfer matrix and subsequently the partition function. \\\\\n",
        "The compuationaly complexity of this naive approach grows exponentially in the vertical size of the lattice."
      ]
    },
    {
      "cell_type": "code",
      "metadata": {
        "id": "BHtvdHY5yi5U",
        "colab_type": "code",
        "colab": {}
      },
      "source": [
        "def PFunction(T,J):\n",
        "    TM = [] # the transfer matrix\n",
        "    for i in range(0,pow(2,L)):\n",
        "        phi_i = phi[i]\n",
        "        TMi = []\n",
        "        for j in range(0,pow(2,L)):\n",
        "            phi_j = phi[j]\n",
        "            \n",
        "            K = 0\n",
        "            for i in range(0,L):\n",
        "                K = K + phi_i[i]*phi_i[(i+1)%L]  \n",
        "                K = K + phi_j[i]*phi_j[(i+1)%L] \n",
        "                K = K + 2*phi_i[i]*phi_j[i]    \n",
        "            TMi.append(np.exp(J/2/T*K))\n",
        "            \n",
        "        TM.append(TMi)\n",
        "    return np.trace(np.linalg.matrix_power(TM,L));"
      ],
      "execution_count": 0,
      "outputs": []
    },
    {
      "cell_type": "markdown",
      "metadata": {
        "id": "Vjuva1G9OpSp",
        "colab_type": "text"
      },
      "source": [
        "Now with the partition function we may find all of the thermodynamic quantities.\n",
        "\n",
        "For example, the internal energy is \\\\\n",
        "$U = -\\frac{\\partial \\log Z}{\\partial \\beta}$"
      ]
    },
    {
      "cell_type": "code",
      "metadata": {
        "id": "v9QGn2Y_IIP3",
        "colab_type": "code",
        "colab": {
          "base_uri": "https://localhost:8080/",
          "height": 301
        },
        "outputId": "eef6df99-ef58-4f16-d1e3-bcaaa26c2dd5"
      },
      "source": [
        "J = 1\n",
        "delT = 1e-5\n",
        "\n",
        "U = []\n",
        "T_grid = []\n",
        "TN = 20\n",
        "T_scale = 0.2\n",
        "\n",
        "for i in range(1,TN):\n",
        "    T = T_scale*i\n",
        "    T_grid.append(T)\n",
        "    Z1 = PFunction(T,J)\n",
        "    Z2 = PFunction(T+delT,J)\n",
        "    \n",
        "    U.append(T*T*(np.log(Z2)-np.log(Z1))/(L*L*delT))\n",
        "\n",
        "plt.pyplot.plot(T_grid, U)\n",
        "plt.pyplot.xlabel('T')\n",
        "plt.pyplot.ylabel('U')"
      ],
      "execution_count": 270,
      "outputs": [
        {
          "output_type": "execute_result",
          "data": {
            "text/plain": [
              "Text(0, 0.5, 'U')"
            ]
          },
          "metadata": {
            "tags": []
          },
          "execution_count": 270
        },
        {
          "output_type": "display_data",
          "data": {
            "image/png": "[encoded data removed]",
            "text/plain": [
              "<Figure size 432x288 with 1 Axes>"
            ]
          },
          "metadata": {
            "tags": []
          }
        }
      ]
    },
    {
      "cell_type": "markdown",
      "metadata": {
        "id": "xZcPKflJjUsx",
        "colab_type": "text"
      },
      "source": [
        "This is an exact calculation (up to numerical errors) of the intenal energy for the $L\\times L$ system and can be verified with Monte Carlo simulations."
      ]
    }
  ]
}